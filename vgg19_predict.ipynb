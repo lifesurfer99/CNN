{
 "cells": [
  {
   "cell_type": "code",
   "execution_count": null,
   "metadata": {},
   "outputs": [
    {
     "name": "stderr",
     "output_type": "stream",
     "text": [
      "Using TensorFlow backend.\n"
     ]
    },
    {
     "name": "stdout",
     "output_type": "stream",
     "text": [
      "WARNING:tensorflow:From C:\\Users\\PSM\\Anaconda3\\lib\\site-packages\\tensorflow\\python\\framework\\op_def_library.py:263: colocate_with (from tensorflow.python.framework.ops) is deprecated and will be removed in a future version.\n",
      "Instructions for updating:\n",
      "Colocations handled automatically by placer.\n",
      "Please input picture file to predict ( input Q to exit ):  car.jpg\n",
      "Predicted: [('n03670208', 'limousine', 0.16231596), ('n02930766', 'cab', 0.15215504), ('n04037443', 'racer', 0.13774197), ('n03977966', 'police_van', 0.101204395), ('n04285008', 'sports_car', 0.06672516)]\n",
      "Please input picture file to predict ( input Q to exit ):  cat.jpg\n",
      "Predicted: [('n02127052', 'lynx', 0.43729773), ('n02124075', 'Egyptian_cat', 0.08218097), ('n02123394', 'Persian_cat', 0.051475037), ('n02123045', 'tabby', 0.03872169), ('n03325584', 'feather_boa', 0.03680752)]\n",
      "Please input picture file to predict ( input Q to exit ):  dog.jpg\n",
      "Predicted: [('n02099601', 'golden_retriever', 0.25531295), ('n02099712', 'Labrador_retriever', 0.20057084), ('n02104029', 'kuvasz', 0.17260303), ('n02101556', 'clumber', 0.09673182), ('n02111500', 'Great_Pyrenees', 0.080425635)]\n"
     ]
    }
   ],
   "source": [
    "import keras\n",
    "from keras.applications.vgg19 import VGG19\n",
    "from keras.applications.vgg19 import preprocess_input, decode_predictions\n",
    "from PIL import Image\n",
    "import numpy as np\n",
    "import os.path\n",
    "\n",
    "# Using ImageNet pre_trained weights to predict image's class(1000 class)\n",
    "# ImageNet -- http://www.image-net.org/\n",
    "# make sure your package pillow is the latest version \n",
    "\n",
    "model = VGG19(weights='imagenet') # load keras ImageNet pre_trained model\n",
    "\n",
    "while True:\n",
    "\timg_path = input('Please input picture file to predict ( input Q to exit ):  ')\n",
    "\tif img_path == 'Q':\n",
    "\t\tbreak\n",
    "\tif not os.path.exists(img_path):\n",
    "\t\tprint(\"file not exist!\")\n",
    "\t\tcontinue\n",
    "\ttry:\n",
    "\t\timg = Image.open(img_path)\n",
    "\t\tori_w,ori_h = img.size\n",
    "\t\tnew_w = 224.0;\n",
    "\t\tnew_h = 224.0;\n",
    "\t\tif ori_w > ori_h:\n",
    "\t\t\tbs = 224.0 / ori_h;\n",
    "\t\t\tnew_w = ori_w * bs\n",
    "\t\t\tweight = int(new_w)\n",
    "\t\t\theight = int(new_h)\n",
    "\t\t\timg = img.resize( (weight, height), Image.BILINEAR )\n",
    "\t\t\tregion = ( weight / 2 - 112, 0, weight / 2 + 112, height)\n",
    "\t\t\timg = img.crop( region )\n",
    "\t\telse:\n",
    "\t\t\tbs = 224.0 / ori_w;\n",
    "\t\t\tnew_h = ori_h * bs\n",
    "\t\t\tweight = int(new_w)\n",
    "\t\t\theight = int(new_h)\n",
    "\t\t\timg = img.resize( (weight, height), Image.BILINEAR )\n",
    "\t\t\tregion = ( 0, height / 2 - 112 , weight, height / 2 + 112  )\n",
    "\t\t\timg = img.crop( region )\n",
    "\t\tx = np.asarray( img, dtype = 'float32' )\n",
    "\t\tx[:, :, 0] = x[:, :, 0] - 123.680\n",
    "\t\tx[:, :, 1] = x[:, :, 1] - 116.779\n",
    "\t\tx[:, :, 2] = x[:, :, 2] - 103.939\n",
    "\t\tx = np.expand_dims(x, axis=0)\n",
    "\t\tresults = model.predict(x)\n",
    "\t\tprint('Predicted:', decode_predictions(results, top=5)[0])\n",
    "\texcept Exception as e:\n",
    "\t\tpass"
   ]
  },
  {
   "cell_type": "code",
   "execution_count": null,
   "metadata": {},
   "outputs": [],
   "source": []
  }
 ],
 "metadata": {
  "kernelspec": {
   "display_name": "Python 3",
   "language": "python",
   "name": "python3"
  },
  "language_info": {
   "codemirror_mode": {
    "name": "ipython",
    "version": 3
   },
   "file_extension": ".py",
   "mimetype": "text/x-python",
   "name": "python",
   "nbconvert_exporter": "python",
   "pygments_lexer": "ipython3",
   "version": "3.6.8"
  }
 },
 "nbformat": 4,
 "nbformat_minor": 2
}
